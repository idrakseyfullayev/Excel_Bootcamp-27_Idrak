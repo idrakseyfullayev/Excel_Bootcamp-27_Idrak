{
 "cells": [
  {
   "cell_type": "code",
   "execution_count": null,
   "id": "c302d7f6",
   "metadata": {},
   "outputs": [],
   "source": []
  },
  {
   "cell_type": "markdown",
   "id": "d78eddeb",
   "metadata": {},
   "source": [
    "\n",
    "### **Excel Text Functions - Qısa izahlar :**\n",
    "\n",
    "- `LEFT` → Soldan simvol çıxarır → `=LEFT(\"Excel\",2)` → `Ex`  \n",
    "- `RIGHT` → Sağdan simvol çıxarır → `=RIGHT(\"Excel\",2)` → `el`  \n",
    "- `MID` → Ortadan simvol çıxarır → `=MID(\"Excel\",2,2)` → `xc`  \n",
    "- `LEN` → Simvol sayını verir → `=LEN(\"Excel\")` → `5`  \n",
    "- `REPT` → Mətni təkrar edir → `=REPT(\"X\",3)` → `XXX`  \n",
    "- `CONCATENATE` → Mətin birləşdirir (köhnə) → `=CONCATENATE(\"Ex\",\"cel\")` → `Excel`  \n",
    "- `CONCAT` → Mətin birləşdirir (yeni) → `=CONCAT(\"Ex\",\"cel\")` → `Excel`  \n",
    "- `TEXTJOIN` → Ayırıcı ilə birləşdirir → `=TEXTJOIN(\"-\",, \"A\", \"B\")` → `A-B`  \n",
    "- `EXACT` → Case-sensitive müqayisə → `=EXACT(\"A\",\"a\")` → `FALSE`  \n",
    "- `FIND` → Simvol yerini tapır (case var) → `=FIND(\"c\",\"Excel\")` → `3`  \n",
    "- `SEARCH` → Simvol yerini tapır (case YOX) → `=SEARCH(\"C\",\"Excel\")` → `3`  \n",
    "- `LEFT+FIND(SEARCH)` → Simvoladək çıxarır → `=LEFT(A1,FIND(\" \",A1)-1)` → Birinci sözü verir  \n",
    "- `LOWER` → Mətni kiçik hərfə çevirir → `=LOWER(\"Excel\")` → `excel`  \n",
    "- `UPPER` → Mətni böyük hərfə çevirir → `=UPPER(\"Excel\")` → `EXCEL`  \n",
    "- `PROPER` → Hər sözün ilk hərfini böyük edir → `=PROPER(\"excel is fun\")` → `Excel Is Fun`  \n",
    "- `FIND+LOWER` → Kiçik hərflə simvol yeri → `=FIND(\"e\",LOWER(\"Excel\"))` → `1`  \n",
    "- `REPLACE` → Mövqeyə əsasən dəyişir → `=REPLACE(\"Excel\",2,3,\"###\")` → `E###l`  \n",
    "- `SUBSTITUTE` → Mətni hissə ilə dəyişir → `=SUBSTITUTE(\"Excel\",\"cel\",\"tend\")` → `Extentd`  \n",
    "- `TRIM` → Artıq boşluqları silir → `=TRIM(\"  Excel   is  cool  \")` → `Excel is cool`  \n",
    "- `TEXT` → Formatlı mətnə çevirir → `=TEXT(1234.5,\"$#,##0.00\")` → `$1,234.50`\n",
    "- `VALUE` → Mətn tipində olan dəyəri ədədi dəyərə çevirir → `=VALUE(\"123.45\")` → `123.45`\n",
    "- `--`, `*1`, `+0`, `/1` → Mətn tipində olan dəyəri ədədi dəyərə çevirir → `--RIGHT(A1, 4)`, `RIGHT(A1, 4)*1`\n",
    "- `FIXED` → Ədədi müəyyən onluq yerə yuvarlaqlaşdırır və mətn formatında qaytarır → `=FIXED(123.4567, 2)` → `\"123.46\"`"
   ]
  },
  {
   "cell_type": "code",
   "execution_count": null,
   "id": "fa52d138",
   "metadata": {},
   "outputs": [],
   "source": []
  },
  {
   "cell_type": "markdown",
   "id": "8d5a28e3",
   "metadata": {},
   "source": [
    "## Şərtli funksiyaları"
   ]
  },
  {
   "cell_type": "markdown",
   "id": "0bff3a81",
   "metadata": {},
   "source": [
    "\n",
    "- **IF** → Şərt yoxlayır → `=IF(A1>10, \"Böyük\", \"Kiçik\")` → Böyük  \n",
    "- **AND** → Bütün şərtlərin doğru olub olmadığını yoxlayır → `=AND(A1>10, B1<20)` → TRUE  \n",
    "- **OR** → Şərtlərdən birinin doğru olub olmadığını yoxlayır → `=OR(A1>10, B1<20)` → TRUE  \n",
    "- **IFERROR** → Xəta olduqda alternativ nəticə verir → `=IFERROR(A1/B1, \"Xəta\")` → Xəta  \n",
    "- **NOT** → Şərti tərsinə çevirir → `=NOT(A1>10)` → FALSE  \n",
    "- **IFS** → Bir neçə şərt üçün nəticə təyin edir → `=IFS(A1>10, \"Böyük\", A1<5, \"Kiçik\", A1=7, \"Yeddi\")` → Böyük  \n",
    "- **SWITCH** → Dəyəri müqayisə edib nəticə qaytarır → `=SWITCH(A1, 1, \"Bir\", 2, \"İki\", 3, \"Üç\", \"Bilinmir\")` → Bir  \n",
    "- **IF + AND** → Şərt və AND birləşdirir → `=IF(AND(A1>10, B1<20), \"Böyük və Kiçik\", \"Əks halda\")` → Böyük və Kiçik  \n",
    "- **IF + OR** → Şərt və OR birləşdirir → `=IF(OR(A1>10, B1<20), \"Böyük və ya Kiçik\", \"Əks halda\")` → Böyük və ya Kiçik"
   ]
  },
  {
   "cell_type": "code",
   "execution_count": null,
   "id": "f191309d",
   "metadata": {},
   "outputs": [],
   "source": []
  },
  {
   "cell_type": "markdown",
   "id": "eabdc23b",
   "metadata": {},
   "source": [
    "## Excel Date Functions - Qısa izahlar :"
   ]
  },
  {
   "cell_type": "markdown",
   "id": "b2ce2168",
   "metadata": {},
   "source": [
    "- **DATE** → Tarix yaradır → `=DATE(2025, 4, 25)` → 25.04.2025  \n",
    "- **DAY** → Günü çıxarır → `=DAY(\"2025-04-25\")` → 25  \n",
    "- **MONTH** → Ayı çıxarır → `=MONTH(\"2025-04-25\")` → 4  \n",
    "- **YEAR** → İli çıxarır → `=YEAR(\"2025-04-25\")` → 2025  \n",
    "- **DATEVALUE** → Tarixi tarix dəyərinə çevirir → `=DATEVALUE(\"2025-04-25\")` → 44897\n",
    "- **NOW** → Cari tarix və vaxtı göstərir → `=NOW()` → 25.04.2025 10:15  \n",
    "- **TODAY** → Cari tarixi göstərir → `=TODAY()` → 25.04.2025  \n",
    "- **HOUR** → Saatı çıxarır → `=HOUR(\"10:15:00\")` → 10  \n",
    "- **MINUTE** → Dəqiqəni çıxarır → `=MINUTE(\"10:15:00\")` → 15  \n",
    "- **SECOND** → Saniyəni çıxarır → `=SECOND(\"10:15:30\")` → 30  \n",
    "- **TIME** → Vaxt yaradır → `=TIME(10, 15, 30)` → 10:15:30\n",
    "- **TIMEVALUE** → Mətndəki vaxtı vaxt dəyərinə çevirir → `=TIMEVALUE(\"10:15:30\")` → 0.427083  \n",
    "- **EDATE** → Tarixi aylar üzrə irəli və geri aparır → `=EDATE(\"2025-04-25\", 2)` → 25.06.2025  \n",
    "- **EOMONTH** → Tarixi aylar üzrə irəli, geri aparır və ayın son gününü göstərir → `=EOMONTH(\"2025-04-25\", 1)` → 31.05.2025  \n",
    "- **NETWORKDAYS** → İki tarix arasında iş günlərinin sayını hesablayır → `=NETWORKDAYS(\"2025-04-25\", \"2025-05-05\")` → 9  \n",
    "- **NETWORKDAYS.INTL** → İki tarix arasında iş günlərinin sayını xüsusi iş günləri hesabı ilə hesablayır → `=NETWORKDAYS.INTL(\"2025-04-25\", \"2025-05-05\", 1)` → 9  \n",
    "- **WORKDAY** → Verilən tarix + iş günü hansı tarixə düşdüyünu göstərir → `=WORKDAY(\"2025-04-25\", 5)` → 02.05.2025  \n",
    "- **WORKDAY.INTL** → Verilən tarix + iş günü və xüsusi iş günləri hesabı ilə hansı tarixə düşdüyünu göstərir → `=WORKDAY.INTL(\"2025-04-25\", 5, 1)` → 02.05.2025\n",
    "* **DAYS** → İki tarix arasındakı gün fərqini hesablayır → `=DAYS(\"2025-04-25\", \"2025-04-20\")` → 5\n",
    "* **WEEKDAY** → Verilmiş tarixə uyğun həftənin gününü ədədi olaraq göstərir (1 = Bazar, 2 = Bazar ertəsi və s.) → `=WEEKDAY(DATE(2025, 4, 25))` → 6 (Cümə)\n",
    "* **YEARFRAC** → İki tarix arasındakı fərqi il kimi onluq formatda göstərir → `=YEARFRAC(DATE(2025, 1, 1), DATE(2025, 4, 25))` → 0.31\n",
    "* **DATEDIF** → İki tarix arasındakı fərqi illə, ayla və ya günlə hesablayır → `=DATEDIF(DATE(2020,1,1), DATE(2025,4,25), \"Y\")` → 5 (il fərqi)\n",
    "* `=DATEDIF(start_date, end_date, \"M\")` → ay fərqini verir\n",
    "* `=DATEDIF(start_date, end_date, \"D\")` → gün fərqini verir\n",
    "* `=DATEDIF(start_date, end_date, \"YM\")` → yalnız ay fərqini (illəri nəzərə almadan)\n",
    "* `=DATEDIF(start_date, end_date, \"MD\")` → yalnız gün fərqini (ay və illəri nəzərə almadan)\n",
    "\n"
   ]
  },
  {
   "cell_type": "code",
   "execution_count": null,
   "id": "6d68be8d",
   "metadata": {},
   "outputs": [],
   "source": []
  },
  {
   "cell_type": "code",
   "execution_count": null,
   "id": "5a7f456a",
   "metadata": {},
   "outputs": [],
   "source": []
  },
  {
   "cell_type": "code",
   "execution_count": 7,
   "id": "12301631",
   "metadata": {},
   "outputs": [
    {
     "name": "stdout",
     "output_type": "stream",
     "text": [
      "0.018280283236902336 0.9858629505132785\n"
     ]
    }
   ],
   "source": [
    "from scipy import stats\n",
    "\n",
    "a = [23, 45, 67, 34, 23]\n",
    "b = [25, 43, 64, 33, 26]\n",
    "\n",
    "z_stat, p_value = stats.ttest_ind(a, b)\n",
    "print(z_stat, p_value)"
   ]
  },
  {
   "cell_type": "code",
   "execution_count": 8,
   "id": "1b8e8d3d",
   "metadata": {},
   "outputs": [
    {
     "name": "stdout",
     "output_type": "stream",
     "text": [
      "Z-statistic: 0.018280283236902336, P-value: 0.9854152565369573\n"
     ]
    }
   ],
   "source": [
    "from statsmodels.stats.weightstats import ztest\n",
    "\n",
    "# Nümunə məlumatları\n",
    "a = [23, 45, 67, 34, 23]\n",
    "b = [25, 43, 64, 33, 26]\n",
    "\n",
    "# Z-testi (iki nümunəli)\n",
    "z_stat, p_value = ztest(a, b, value=0)  # value=0: orta fərqin 0 olmasını yoxlayır\n",
    "print(f\"Z-statistic: {z_stat}, P-value: {p_value}\")"
   ]
  },
  {
   "cell_type": "code",
   "execution_count": null,
   "id": "558f6f85",
   "metadata": {},
   "outputs": [],
   "source": []
  }
 ],
 "metadata": {
  "kernelspec": {
   "display_name": "Python 3 (ipykernel)",
   "language": "python",
   "name": "python3"
  },
  "language_info": {
   "codemirror_mode": {
    "name": "ipython",
    "version": 3
   },
   "file_extension": ".py",
   "mimetype": "text/x-python",
   "name": "python",
   "nbconvert_exporter": "python",
   "pygments_lexer": "ipython3",
   "version": "3.11.5"
  }
 },
 "nbformat": 4,
 "nbformat_minor": 5
}
