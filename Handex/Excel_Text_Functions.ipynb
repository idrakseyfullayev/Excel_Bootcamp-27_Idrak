{
 "cells": [
  {
   "cell_type": "code",
   "execution_count": null,
   "id": "c302d7f6",
   "metadata": {},
   "outputs": [],
   "source": []
  },
  {
   "cell_type": "markdown",
   "id": "d78eddeb",
   "metadata": {},
   "source": [
    "\n",
    "### **Excel Text Functions - Qısa izahlar :**\n",
    "\n",
    "- `LEFT` → Soldan simvol çıxarır → `=LEFT(\"Excel\",2)` → `Ex`  \n",
    "- `RIGHT` → Sağdan simvol çıxarır → `=RIGHT(\"Excel\",2)` → `el`  \n",
    "- `MID` → Ortadan simvol çıxarır → `=MID(\"Excel\",2,2)` → `xc`  \n",
    "- `LEN` → Simvol sayını verir → `=LEN(\"Excel\")` → `5`  \n",
    "- `REPT` → Mətni təkrar edir → `=REPT(\"X\",3)` → `XXX`  \n",
    "- `CONCATENATE` → Mətin birləşdirir (köhnə) → `=CONCATENATE(\"Ex\",\"cel\")` → `Excel`  \n",
    "- `CONCAT` → Mətin birləşdirir (yeni) → `=CONCAT(\"Ex\",\"cel\")` → `Excel`  \n",
    "- `TEXTJOIN` → Ayırıcı ilə birləşdirir → `=TEXTJOIN(\"-\",, \"A\", \"B\")` → `A-B`  \n",
    "- `EXACT` → Case-sensitive müqayisə → `=EXACT(\"A\",\"a\")` → `FALSE`  \n",
    "- `FIND` → Simvol yerini tapır (case var) → `=FIND(\"c\",\"Excel\")` → `3`  \n",
    "- `SEARCH` → Simvol yerini tapır (case YOX) → `=SEARCH(\"C\",\"Excel\")` → `3`  \n",
    "- `LEFT+FIND(SEARCH)` → Simvoladək çıxarır → `=LEFT(A1,FIND(\" \",A1)-1)` → Birinci sözü verir  \n",
    "- `LOWER` → Mətni kiçik hərfə çevirir → `=LOWER(\"Excel\")` → `excel`  \n",
    "- `UPPER` → Mətni böyük hərfə çevirir → `=UPPER(\"Excel\")` → `EXCEL`  \n",
    "- `PROPER` → Hər sözün ilk hərfini böyük edir → `=PROPER(\"excel is fun\")` → `Excel Is Fun`  \n",
    "- `FIND+LOWER` → Kiçik hərflə simvol yeri → `=FIND(\"e\",LOWER(\"Excel\"))` → `1`  \n",
    "- `REPLACE` → Mövqeyə əsasən dəyişir → `=REPLACE(\"Excel\",2,3,\"###\")` → `E###l`  \n",
    "- `SUBSTITUTE` → Mətni hissə ilə dəyişir → `=SUBSTITUTE(\"Excel\",\"cel\",\"tend\")` → `Extentd`  \n",
    "- `TRIM` → Artıq boşluqları silir → `=TRIM(\"  Excel   is  cool  \")` → `Excel is cool`  \n",
    "- `TEXT` → Formatlı mətnə çevirir → `=TEXT(1234.5,\"$#,##0.00\")` → `$1,234.50`\n",
    "- `VALUE` → Mətn tipində olan dəyəri ədədi dəyərə çevirir → `=VALUE(\"123.45\")` → `123.45`\n",
    "- `--`, `*1`, `+0`, `/1` → Mətn tipində olan dəyəri ədədi dəyərə çevirir → `--RIGHT(A1, 4)`, `RIGHT(A1, 4)*1`\n",
    "- `FIXED` → Ədədi müəyyən onluq yerə yuvarlaqlaşdırır və mətn formatında qaytarır → `=FIXED(123.4567, 2)` → `\"123.46\"`"
   ]
  },
  {
   "cell_type": "code",
   "execution_count": null,
   "id": "fa52d138",
   "metadata": {},
   "outputs": [],
   "source": []
  },
  {
   "cell_type": "code",
   "execution_count": null,
   "id": "2e22019e",
   "metadata": {},
   "outputs": [],
   "source": []
  },
  {
   "cell_type": "code",
   "execution_count": 17,
   "id": "b51c9f3c",
   "metadata": {},
   "outputs": [
    {
     "name": "stdout",
     "output_type": "stream",
     "text": [
      "Qiymət: 450 AZN\n"
     ]
    }
   ],
   "source": [
    "text = \"Təchizat Zəncirinin İdarə Edilməsi-450 AZN\"\n",
    "price = text.split(\"-\")[-1]\n",
    "print(\"Qiymət:\", price)\n"
   ]
  },
  {
   "cell_type": "code",
   "execution_count": 20,
   "id": "bf0b589f",
   "metadata": {},
   "outputs": [
    {
     "name": "stdout",
     "output_type": "stream",
     "text": [
      "Qiymət: 450\n"
     ]
    }
   ],
   "source": [
    "import re\n",
    "\n",
    "text = \"Təchizat Zəncirinin İdarə Edilməsi-450 AZN\"\n",
    "price = re.findall(r'\\d+', text)  # Siyahının ilk elementini götürürük\n",
    "print(\"Qiymət:\", price[0])\n"
   ]
  },
  {
   "cell_type": "code",
   "execution_count": 21,
   "id": "f020f4d7",
   "metadata": {},
   "outputs": [
    {
     "name": "stdout",
     "output_type": "stream",
     "text": [
      "Boşluqların sayı: 3\n"
     ]
    }
   ],
   "source": [
    "text = \"idrak Eeli  guesli\"\n",
    "space_count = text.count(\" \")\n",
    "print(\"Boşluqların sayı:\", space_count)"
   ]
  },
  {
   "cell_type": "code",
   "execution_count": null,
   "id": "f2c9bffb",
   "metadata": {},
   "outputs": [],
   "source": []
  }
 ],
 "metadata": {
  "kernelspec": {
   "display_name": "Python 3 (ipykernel)",
   "language": "python",
   "name": "python3"
  },
  "language_info": {
   "codemirror_mode": {
    "name": "ipython",
    "version": 3
   },
   "file_extension": ".py",
   "mimetype": "text/x-python",
   "name": "python",
   "nbconvert_exporter": "python",
   "pygments_lexer": "ipython3",
   "version": "3.11.5"
  }
 },
 "nbformat": 4,
 "nbformat_minor": 5
}
