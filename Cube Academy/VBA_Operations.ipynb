{
 "cells": [
  {
   "cell_type": "markdown",
   "id": "9549110f",
   "metadata": {},
   "source": []
  },
  {
   "cell_type": "markdown",
   "id": "c26b37a4",
   "metadata": {},
   "source": [
    "### **VBA  - Qısa izahlar :**\n",
    "\n",
    "* `MsgBox` → İstənilən mesajı qutu şəklində göstərir → `MsgBox \"Salam Dünya\"` → `Salam Dünya`\n",
    "* `ActiveCell` → Hal-hazırda seçilmiş hüceyrəni göstərir → `ActiveCell` → Seçilmiş hüceyrə ilə işləmək mümkündür\n",
    "* `Select` → Hüceyrəni və ya aralığı seçir → `Range(\"A1\").Select` → `A1` seçilir\n",
    "\n"
   ]
  },
  {
   "cell_type": "markdown",
   "id": "633370da",
   "metadata": {},
   "source": [
    "### VBA - Xanaya Dəyər yazmaq - Qısa izahlar\n",
    "- `ActiveCell.Value` → Aktiv hüceyrəyə dəyər yazır → `ActiveCell.Value = \"Salam\"` → `Salam`\n",
    "- `Range(\"A1\").Value` → Müəyyən hüceyrəyə dəyər yazır → `Range(\"A1\").Value = 12` → `12`\n",
    "- `[a2]` → Müəyyən hüceyrəyə dəyər yazır → `[a2] = \"Academy\"` → `Academy`\n",
    "- `Cells(3, 1).Value` → Müəyyən hüceyrəyə dəyər yazır → `Cells(3, 1).Value = 25` → `25`\n",
    "- `Range(\"B1:B5\").Value` → Bir sıra hüceyrəyə dəyər yazır → `Range(\"B1:B5\").Value = \"Kitab\"` → `Kitab`\n",
    "- `[C1:C5]` → Bir sıra hüceyrəyə dəyər yazır → `[C1:C5] = \"Excel\"\"` → `Excel`\n",
    "\n"
   ]
  },
  {
   "cell_type": "markdown",
   "id": "acfde7f4",
   "metadata": {},
   "source": [
    "### VBA - Copy əməliyyatı - Qısa izahlar\n",
    "- `Range(\"E1:E5\").Value` → Hüceyrələrə digər hüceyrələrin dəyərini kopyalayır → `Range(\"E1:E5\").Value = Range(\"C1:C5\").Value` → `C1:C5` dəyərləri `E1:E5`-ə kopyalanır\n",
    "- `Range(\"B1:B5\").Copy` → Seçilmiş hüceyrələri kopyalayır. `Range(\"D1:D5\").PasteSpecial` → Kopyalanan hüceyrələri müəyyən sahəyə yapışdırır Nəticə: `B1:B5`-dəki dəyərlər `D1:D5`-ə kopyalanır\n",
    "\n"
   ]
  },
  {
   "cell_type": "markdown",
   "id": "0c6262e6",
   "metadata": {},
   "source": [
    "### VBA - Hücrə Aralığı Seçmək - Qısa izahlar\n",
    "- `Range(\"A1:A3\").Select` → Müəyyən hüceyrə aralığını seçir → `Range(\"A1:A3\").Select` → `A1:A3` seçilir\n",
    "- `Selection.Value` → Seçilmiş hüceyrələrə dəyər yazır → `Selection.Value = 30` → `30`\n"
   ]
  },
  {
   "cell_type": "markdown",
   "id": "b0da3d29",
   "metadata": {},
   "source": [
    "### VBA - Font Əmri- Qısa izahlar\n",
    "- `Range(\"A1:A5\").Font.Name` → Hüceyrələrin şrift adını təyin edir → `Range(\"A1:A5\").Font.Name = \"Arial\"` → `Arial`\n",
    "- `Range(\"A1:A5\").Font.Size` → Hüceyrələrin şrift ölçüsünü təyin edir → `Range(\"A1:A5\").Font.Size = 15` → `15`\n",
    "- `Range(\"A1:A5\").Font.Color` → Hüceyrələrin yazı rəngini təyin edir → `Range(\"A1:A5\").Font.Color = vbRed` → `Qırmızı`\n",
    "- `Range(\"A1:A5\").Font.Bold` → Hüceyrələrin yazısını qalın edir → `Range(\"A1:A5\").Font.Bold = True` → **Qalın**\n",
    "- `Range(\"A1:A5\").Font.Italic` → Hüceyrələrin yazısını kursiv edir → `Range(\"A1:A5\").Font.Italic = True` → *Kursiv*\n",
    "- `Range(\"A1:A5\").Font.Underline` → Hüceyrələrin yazısına alt xət çəkir → `Range(\"A1:A5\").Font.Underline = True` →  Alt xətli\n",
    "- `Range(\"A1:A5\").Clear` → Hüceyrələrin həm dəyərini, həm formatını silir → `Range(\"A1:A5\").Clear` → Boş hüceyrələr\n",
    "- `Range(\"A1:A5\").ClearContents` → Hüceyrələrin yalnız dəyərini silir, formatı saxlayır → `Range(\"A1:A5\").ClearContents` → Boş dəyərlər\n",
    "\n",
    "\n"
   ]
  },
  {
   "cell_type": "markdown",
   "id": "5de8d100",
   "metadata": {},
   "source": [
    "### VBA - With Əmri- Qısa izahlar\n",
    "* `With Range(\"B1:B5\").Font` → Hüceyrələrin yazı formatını eyni blokda təyin edir\n",
    "    * `.Name = \"Arial\"` → Şrift adı → `Arial`\n",
    "    * `.Size = 15` → Şrift ölçüsü → `15`\n",
    "    * `.Color = vbGreen` → Yazı rəngi → `Yaşıl`\n",
    "    * `.Bold = True` → Qalın yazı → **Qalın**\n",
    "    * `.Italic = True` → Kursiv yazı → *Kursiv*\n",
    "    * `.Underline = True` → Alt xətt → Alt xətli\n",
    "* `End With` → `With` blokunu bitirir\n"
   ]
  },
  {
   "cell_type": "markdown",
   "id": "72360e85",
   "metadata": {},
   "source": [
    "### VBA - Offset Əmri- Qısa izahlar\n",
    "* `Range(\"D6\").Offset(1, 0)` → Hazırki hüceyrədən bir sətir aşağı → `Range(\"D6\").Offset(1, 0) = \"Excel\"` → `D7 = Excel`\n",
    "* `Range(\"D6\").Offset(-1, 0)` → Hazırki hüceyrədən bir sətir yuxarı → `Range(\"D6\").Offset(-1, 0) = \"Excel\"` → `D5 = Excel`\n",
    "* `Range(\"D6\").Offset(0, 1)` → Hazırki hüceyrədən bir sütun sağa → `Range(\"D6\").Offset(0, 1) = \"Excel\"` → `E6 = Excel`\n",
    "* `Range(\"D6\").Offset(0, -1)` → Hazırki hüceyrədən bir sütun sola → `Range(\"D6\").Offset(0, -1) = \"Excel\"` → `C6 = Excel`\n",
    "\n",
    "---\n",
    "\n",
    "* `ActiveCell.Offset(1, 0).Select` → Aktiv hüceyrədən bir sətir aşağı seçir → `Alt hüceyrə aktiv olur`\n",
    "* `ActiveCell.Value = ActiveCell.Offset(-1, 0).Value + 1` → Yuxarıdakı hüceyrənin dəyərini götürüb 1 artırır → Yeni dəyər aktiv hüceyrəyə yazılır\n",
    "\n"
   ]
  },
  {
   "cell_type": "code",
   "execution_count": null,
   "id": "2c2424ff",
   "metadata": {},
   "outputs": [],
   "source": []
  }
 ],
 "metadata": {
  "kernelspec": {
   "display_name": "Python 3 (ipykernel)",
   "language": "python",
   "name": "python3"
  },
  "language_info": {
   "codemirror_mode": {
    "name": "ipython",
    "version": 3
   },
   "file_extension": ".py",
   "mimetype": "text/x-python",
   "name": "python",
   "nbconvert_exporter": "python",
   "pygments_lexer": "ipython3",
   "version": "3.11.5"
  }
 },
 "nbformat": 4,
 "nbformat_minor": 5
}
