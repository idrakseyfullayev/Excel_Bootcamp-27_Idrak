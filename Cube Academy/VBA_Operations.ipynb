{
 "cells": [
  {
   "cell_type": "code",
   "execution_count": null,
   "id": "d630efe1",
   "metadata": {},
   "outputs": [],
   "source": []
  },
  {
   "cell_type": "markdown",
   "id": "c26b37a4",
   "metadata": {},
   "source": [
    "### **VBA  - Qısa izahlar :**\n",
    "\n",
    "* `MsgBox` → İstənilən mesajı qutu şəklində göstərir → `MsgBox \"Salam Dünya\"` → `Salam Dünya`\n",
    "* `ActiveCell` → Hal-hazırda seçilmiş hüceyrəni göstərir → `ActiveCell` → Seçilmiş hüceyrə ilə işləmək mümkündür\n",
    "* `Select` → Hüceyrəni və ya aralığı seçir → `Range(\"A1\").Select` → `A1` seçilir\n",
    "\n"
   ]
  },
  {
   "cell_type": "code",
   "execution_count": null,
   "id": "d25a633d",
   "metadata": {},
   "outputs": [],
   "source": []
  },
  {
   "cell_type": "markdown",
   "id": "633370da",
   "metadata": {},
   "source": [
    "### VBA - Xanaya Dəyər yazmaq - Qısa izahlar\n",
    "* `ActiveCell.Value` → Aktiv hüceyrəyə dəyər yazır → `ActiveCell.Value = \"Salam\"` → `Salam`\n",
    "* `Range(\"A1\").Value` → Müəyyən hüceyrəyə dəyər yazır → `Range(\"A1\").Value = 12` → `12`\n",
    "* `[a2]` → Müəyyən hüceyrəyə dəyər yazır → `[a2] = \"Academy\"` → `Academy`\n",
    "* `Cells(3, 1).Value` → Müəyyən hüceyrəyə dəyər yazır → `Cells(3, 1).Value = 25` → `25`\n",
    "* `Range(\"B1:B5\").Value` → Bir sıra hüceyrəyə dəyər yazır → `Range(\"B1:B5\").Value = \"Kitab\"` → `Kitab`\n",
    "* `[C1:C5]` → Bir sıra hüceyrəyə dəyər yazır → `[C1:C5] = \"Excel\"\"` → `Excel`\n"
   ]
  },
  {
   "cell_type": "code",
   "execution_count": null,
   "id": "e8dc929e",
   "metadata": {},
   "outputs": [],
   "source": []
  },
  {
   "cell_type": "markdown",
   "id": "acfde7f4",
   "metadata": {},
   "source": [
    "### VBA - Copy əməliyyatı - Qısa izahlar\n",
    "- `Range(\"E1:E5\").Value` → Hüceyrələrə digər hüceyrələrin dəyərini kopyalayır → `Range(\"E1:E5\").Value = Range(\"C1:C5\").Value` → `C1:C5` dəyərləri `E1:E5`-ə kopyalanır\n",
    "- `Range(\"B1:B5\").Copy` → Seçilmiş hüceyrələri kopyalayır. `Range(\"D1:D5\").PasteSpecial` → Kopyalanan hüceyrələri müəyyən sahəyə yapışdırır Nəticə: `B1:B5`-dəki dəyərlər `D1:D5`-ə kopyalanır\n",
    "\n"
   ]
  },
  {
   "cell_type": "code",
   "execution_count": null,
   "id": "6e2104f3",
   "metadata": {},
   "outputs": [],
   "source": []
  },
  {
   "cell_type": "markdown",
   "id": "0c6262e6",
   "metadata": {},
   "source": [
    "### VBA - Hücrə Aralığı Seçmək - Qısa izahlar\n",
    "- `Range(\"A1:A3\").Select` → Müəyyən hüceyrə aralığını seçir → `Range(\"A1:A3\").Select` → `A1:A3` seçilir\n",
    "- `Selection.Value` → Seçilmiş hüceyrələrə dəyər yazır → `Selection.Value = 30` → `30`\n"
   ]
  },
  {
   "cell_type": "code",
   "execution_count": null,
   "id": "3638bfb1",
   "metadata": {},
   "outputs": [],
   "source": []
  },
  {
   "cell_type": "markdown",
   "id": "b0da3d29",
   "metadata": {},
   "source": [
    "### VBA - Font Əmri- Qısa izahlar\n",
    "- `Range(\"A1:A5\").Font.Name` → Hüceyrələrin şrift adını təyin edir → `Range(\"A1:A5\").Font.Name = \"Arial\"` → `Arial`\n",
    "- `Range(\"A1:A5\").Font.Size` → Hüceyrələrin şrift ölçüsünü təyin edir → `Range(\"A1:A5\").Font.Size = 15` → `15`\n",
    "- `Range(\"A1:A5\").Font.Color` → Hüceyrələrin yazı rəngini təyin edir → `Range(\"A1:A5\").Font.Color = vbRed` → `Qırmızı`\n",
    "- `Range(\"A1:A5\").Font.Bold` → Hüceyrələrin yazısını qalın edir → `Range(\"A1:A5\").Font.Bold = True` → **Qalın**\n",
    "- `Range(\"A1:A5\").Font.Italic` → Hüceyrələrin yazısını kursiv edir → `Range(\"A1:A5\").Font.Italic = True` → *Kursiv*\n",
    "- `Range(\"A1:A5\").Font.Underline` → Hüceyrələrin yazısına alt xət çəkir → `Range(\"A1:A5\").Font.Underline = True` →  Alt xətli\n",
    "- `Range(\"A1:A5\").Clear` → Hüceyrələrin həm dəyərini, həm formatını silir → `Range(\"A1:A5\").Clear` → Boş hüceyrələr\n",
    "- `Range(\"A1:A5\").ClearContents` → Hüceyrələrin yalnız dəyərini silir, formatı saxlayır → `Range(\"A1:A5\").ClearContents` → Boş dəyərlər\n",
    "\n",
    "\n"
   ]
  },
  {
   "cell_type": "code",
   "execution_count": null,
   "id": "d68559ab",
   "metadata": {},
   "outputs": [],
   "source": []
  },
  {
   "cell_type": "markdown",
   "id": "5de8d100",
   "metadata": {},
   "source": [
    "### VBA - With Əmri- Qısa izahlar\n",
    "* `With Range(\"B1:B5\").Font` → Hüceyrələrin yazı formatını eyni blokda təyin edir\n",
    "    * `.Name = \"Arial\"` → Şrift adı → `Arial`\n",
    "    * `.Size = 15` → Şrift ölçüsü → `15`\n",
    "    * `.Color = vbGreen` → Yazı rəngi → `Yaşıl`\n",
    "    * `.Bold = True` → Qalın yazı → **Qalın**\n",
    "    * `.Italic = True` → Kursiv yazı → *Kursiv*\n",
    "    * `.Underline = True` → Alt xətt → Alt xətli\n",
    "* `End With` → `With` blokunu bitirir\n"
   ]
  },
  {
   "cell_type": "code",
   "execution_count": null,
   "id": "3774df10",
   "metadata": {},
   "outputs": [],
   "source": []
  },
  {
   "cell_type": "markdown",
   "id": "72360e85",
   "metadata": {},
   "source": [
    "### VBA - Offset Əmri- Qısa izahlar\n",
    "* `Range(\"D6\").Offset(1, 0)` → Hazırki hüceyrədən bir sətir aşağı → `Range(\"D6\").Offset(1, 0) = \"Excel\"` → `D7 = Excel`\n",
    "* `Range(\"D6\").Offset(-1, 0)` → Hazırki hüceyrədən bir sətir yuxarı → `Range(\"D6\").Offset(-1, 0) = \"Excel\"` → `D5 = Excel`\n",
    "* `Range(\"D6\").Offset(0, 1)` → Hazırki hüceyrədən bir sütun sağa → `Range(\"D6\").Offset(0, 1) = \"Excel\"` → `E6 = Excel`\n",
    "* `Range(\"D6\").Offset(0, -1)` → Hazırki hüceyrədən bir sütun sola → `Range(\"D6\").Offset(0, -1) = \"Excel\"` → `C6 = Excel`\n",
    "\n",
    "### Offset Əmri ilə Ardıcıllıq yaratma qaydası\n",
    "\n",
    "* `ActiveCell.Offset(1, 0).Select` → Aktiv hüceyrədən bir sətir aşağı seçir → `Alt hüceyrə aktiv olur`\n",
    "* `ActiveCell.Value = ActiveCell.Offset(-1, 0).Value + 1` → Yuxarıdakı hüceyrənin dəyərini götürüb 1 artırır → Yeni dəyər aktiv hüceyrəyə yazılır\n",
    "\n"
   ]
  },
  {
   "cell_type": "code",
   "execution_count": null,
   "id": "e0fe6b07",
   "metadata": {},
   "outputs": [],
   "source": []
  },
  {
   "cell_type": "markdown",
   "id": "b9f49dfd",
   "metadata": {},
   "source": [
    "### VBA - End Əmri - Qısa izahlar\n",
    "\n",
    "* `Range(\"A1\").End(xlDown).Select` → `A1`-dən aşağı doğru sonuncu dolu hüceyrəni seçir\n",
    "* `ActiveCell.End(xlUp).Select` → Aktiv hüceyrədən yuxarı doğru sonuncu dolu hüceyrəni seçir\n",
    "* `ActiveCell.End(xlToRight).Select` → Aktiv hüceyrədən sağa doğru sonuncu dolu hüceyrəni seçir\n",
    "* `ActiveCell.End(xlToLeft).Select` → Aktiv hüceyrədən sola doğru sonuncu dolu hüceyrəni seçir\n",
    "\n",
    "###  End + Offset Əmri ilə Cədvəl dolurma qaydası\n",
    "* `Range(\"B2:E2\").Copy` → `B2:E2` aralığını kopyalayır\n",
    "* `Range(\"B7\").End(xlDown).Offset(1, 0).PasteSpecial` → `B7`-dən aşağıdakı sonuncu dolu hüceyrənin bir altına kopyalanan məlumatı yapışdırır\n",
    "* `Range(\"B7\").End(xlDown).Offset(0, -1).Value = Range(\"B7\").End(xlDown).Offset(-1, -1).Value + 1` → Sonuncu sətirin solundakı hüceyrəyə, bir üst sətirdəki dəyəri götürüb `+1` yazır (yəni ardıcıllıq yaradır)\n",
    "* `Range(\"B3\").Select` → `B3` hüceyrəsini seçir\n",
    "\n"
   ]
  },
  {
   "cell_type": "code",
   "execution_count": null,
   "id": "aeda9416",
   "metadata": {},
   "outputs": [],
   "source": []
  },
  {
   "cell_type": "markdown",
   "id": "0b6c0f23",
   "metadata": {},
   "source": [
    "### VBA - Sheets (Səhifələr) üzərində ilkin əməliyyatlar - Qısa izahlar\n",
    "* `ActiveSheet.Range(\"A1:A10\")` → Aktiv iş səhifəsində müəyyən aralığı göstərir → `ActiveSheet.Range(\"A1:A10\") = \"Excel\"` → `A1:A10` hüceyrələrinə `Excel` dəyərini yazır.\n",
    "* `Sheets(3).Range(\"A1:A10\").Value` → Üçüncü iş səhifəsində müəyyən aralığın dəyərini göstərir → `Sheets(3).Range(\"A1:A10\").Value = \"Excel VBA\"` → `A1:A10` hüceyrələrinə `Excel VBA` yazır.\n",
    "* `Sheets(\"Sheet2\").Range(\"B1:B10\").Value` → `Sheet2` iş səhifəsində müəyyən aralığın dəyərini göstərir → `Sheets(\"Sheet2\").Range(\"B1:B10\").Value = \"Excel VBA\"` → `B1:B10` hüceyrələrinə `Excel VBA` yazır.\n",
    "* `ActiveSheet.Range(\"A1:A10\").Select` → Aktiv iş səhifəsində `A1:A10` aralığını seçir.\n",
    "* `Sheets(\"Sheet1\").Name` → İş səhifəsinin adını dəyişdirir → `Sheets(\"Sheet1\").Name = \"Cedvel\"` → `Sheet1` səhifəsinin adı `Cedvel` olur\n",
    "\n",
    "---\n",
    "### Cədvəl dolurma qaydası Müxtəlif Sheet-lərdə\n",
    "* `Sub SheetsTest2()` → Yeni bir VBA makrosu başlayır və `SheetsTest2` adı ilə qeyd edir <br><br>\n",
    "    * `Sheets(\"Add Person\").Range(\"B2:E2\").Copy` → `Add Person` iş səhifəsində `B2:E2` aralığını kopyalayır\n",
    "    <br>\n",
    "    \n",
    "    * `With Sheets(\"Person Base\")` → `Person Base` iş səhifəsində əməliyyat blokunu başladır\n",
    "        * `.Range(\"B1\").End(xlDown).Offset(1, 0).PasteSpecial` → `B1`-dən aşağıdakı sonuncu dolu hüceyrənin bir altına kopyalanan məlumatı yapışdırır\n",
    "        * `.Range(\"B1\").End(xlDown).Offset(0, -1).Value = Sheets(\"Person Base\").Range(\"B1\").End(xlDown).Offset(-1, -1).Value + 1` → Sol sütunda ardıcıllıq yaratmaq üçün bir üst hüceyrənin dəyərini 1 artırır\n",
    "        * `Application.CutCopyMode = False` → Kopyalama rejimini bitirir\n",
    "    * `End With` → `With` blokunu bitirir və blok içindəki əməliyyatları yekunlaşdırır\n",
    "     <br>\n",
    "        \n",
    "        \n",
    "    * `With Sheets(\"Add Person\")` → `Add Person` iş səhifəsində əməliyyat blokunu başladır\n",
    "        * `.Range(\"B2:E2\").ClearContents` → Kopyalanan aralığın dəyərlərini silir\n",
    "        * `.Range(\"B2:E2\").Select` → Silindikdən sonra aralığı seçir\n",
    "    * `End With` → `With` blokunu bitirir və blok içindəki əməliyyatları yekunlaşdırır <br><br>\n",
    "* `End Sub` → Makronu bitirir\n",
    "\n",
    "\n"
   ]
  },
  {
   "cell_type": "code",
   "execution_count": null,
   "id": "ef2e29aa",
   "metadata": {},
   "outputs": [],
   "source": []
  },
  {
   "cell_type": "markdown",
   "id": "a87d8b01",
   "metadata": {},
   "source": [
    "### VBA - Add Sheets - Qısa izahlar\n",
    "* `Sheets.Add` → Yeni iş səhifəsi əlavə edir → `Sheets.Add` → Yeni səhifə yaranır\n",
    "* `Sheets.Add Before` → Yeni iş səhifəsini əvvələ əlavə edir → `Sheets.Add Before:=Sheets(\"Sheet1\")` → Yeni səhifə `Sheet1`-dən əvvəl yaranır\n",
    "* `Sheets.Add After` → Yeni iş səhifəsini axıra əlavə edir → `Sheets.Add After:=Sheets(\"Sheet1\")` → Yeni səhifə `Sheet1`-dən sonra yaranır\n",
    "* `Sheets.Add Count` → Birdən çox iş səhifəsi əlavə edir → `Sheets.Add Count:=2` → 2 yeni səhifə yaranır\n",
    "* `Sheets.Add After:=Sheets(\"Sheet1\"), Count:=2` → `Sheet1`-dən sonra 2 yeni iş səhifəsi əlavə edir\n",
    "* `Sheets.Count` → İş səhifələrinin sayını göstərir → `Sheets.Count` → Cari iş kitabındakı səhifə sayı qaytarılır\n",
    "* `Sheets.Add After:=Sheets(Sheets.Count)` → Sonuncu səhifədən sonra yeni iş səhifəsi əlavə edir → Yeni səhifənin adı avtomatik ardıcıl nömrə ilə verilir (`Sheet2`, `Sheet3` və s.)\n",
    "* `Sheets.Add.Name` → Yeni iş səhifəsi əlavə edib adını təyin edir → `Sheets.Add.Name = \"Cedvel\"` → Yeni səhifənin adı `Cedvel` olur\n",
    "\n",
    "---\n",
    "#### Yeni Sheet əlavə edib adını hücrə dəyəri ilə təyin etmək\n",
    "* `Sheets.Add.Name = Sheets(\"Sheet1\").Range(\"A2\")` → Yeni iş səhifəsi əlavə edib adını `Sheet1`-dəki `A2` hüceyrəsinin dəyəri ilə təyin edir → Yeni səhifənin adı `A2`-dəki mətn olur\n",
    "\n",
    "---\n",
    "#### Yeni Sheet əlavə edib adını hücrə dəyəri ilə təyin etmək Kombinasiyası 1\n",
    "\n",
    "* `Sub Add_Sheets_2()` → Yeni sub prosedur yaradılır\n",
    "    * `Sheets.Add After:=Sheets(Sheets.Count)` → İş kitabının sonuna yeni səhifə əlavə edir\n",
    "    * `Sheets(ActiveSheet.Name).Name = Sheets(\"Sheet1\").Range(\"A2\")` → Yeni əlavə olunan səhifənin adını `Sheet1`-dəki `A2` hüceyrəsinin dəyəri ilə təyin edir\n",
    "    * `Sheets(\"Sheet1\").Select` → `Sheet1` səhifəsini aktiv edir\n",
    "    * `Sheets(\"Sheet1\").Range(\"A2\").ClearContents` → `Sheet1`-dəki `A2` hüceyrəsinin məzmununu silir\n",
    "* `End Sub` → Sub prosedurun sonunu göstərir → Kodun bu hissəsindən sonra Sub bitir\n",
    "\n",
    "---\n",
    "#### Yeni Sheet əlavə edib adını hücrə dəyəri ilə təyin etmək Kombinasiyası 2\n",
    "\n",
    "* `Sub Add_Sheets_3()` → Yeni sub prosedur yaradılır\n",
    "    * `Sheets.Add After:=Sheets(Sheets.Count)` → İş kitabının sonuna yeni səhifə əlavə edir\n",
    "    * `Sheets(ActiveSheet.Name).Name = \"Cedvel\" & Sheets.Count + 100` → Yeni səhifəyə ad verir → Ad `Cedvel` + cari səhifə sayı + 100 olur\n",
    "    * `Sheets(\"Sheet1\").Select` → `Sheet1` səhifəsini aktiv edir\n",
    "* `End Sub` → Sub prosedurun sonunu göstərir\n",
    "\n"
   ]
  },
  {
   "cell_type": "code",
   "execution_count": null,
   "id": "167df6c6",
   "metadata": {},
   "outputs": [],
   "source": []
  },
  {
   "cell_type": "markdown",
   "id": "e1b3669b",
   "metadata": {},
   "source": [
    "### VBA - Hide, Unhide əmrləri - Qısa izahlar\n",
    "* `Sheets(\"Cedvel\").Visible = False` → `Cedvel` adlı iş səhifəsini gizlədir → Səhifə görünməz olur\n",
    "* `Sheets(\"Cedvel\").Visible = True` → `Cedvel` adlı iş səhifəsini göstərir → Səhifə yenidən görünür\n",
    "<br>\n",
    "\n",
    "* `Sheets(\"Cedvel\").Visible = 0` → `Cedvel` adlı iş səhifəsini gizlədir → Səhifə görünməz olur (`False` ilə eyni təsir)\n",
    "* `Sheets(\"Cedvel\").Visible = 1` → `Cedvel` adlı iş səhifəsini göstərir → Səhifə görünür (`True` ilə eyni təsir)\n",
    "<br>\n",
    "\n",
    "* `Sheets(\"Cedvel\").Visible = 2` → `Cedvel` adlı iş səhifəsini yalnız VBA üzərindən görünən edir → İstifadəçi interfeysində görünmür, amma kodla işləmək mümkündür (`xlSheetVeryHidden`)\n",
    "* `Sheets(\"Cedvel\").Visible = 1` → `Cedvel` adlı iş səhifəsini göstərir → Səhifə görünür (`xlSheetVisible`)\n",
    "\n",
    "---\n",
    "### Bir Səhifəni gizlədib digərinə keçmək və əksinə əməliyyatları\n",
    "\n",
    "* `Sub Add_Sheets_4()` → Yeni sub prosedur yaradılır\n",
    "    * `Sheets(\"Cedvel3\").Visible = 1` → `Cedvel3` səhifəsini göstərir (`xlSheetVisible`)\n",
    "    * `Sheets(\"Cedvel3\").Select` → `Cedvel3` səhifəsini aktiv edir\n",
    "    * `Sheets(\"Sheet1\").Visible = 2` → `Sheet1` səhifəsini yalnız VBA üzərindən görünən edir (`xlSheetVeryHidden`)\n",
    "* `End Sub` → Sub prosedurun sonunu göstərir\n",
    "\n",
    "<br>\n",
    "\n",
    "* `Sub Add_Sheets_5()` → Yeni sub prosedur yaradılır\n",
    "    * `Sheets(\"Sheet1\").Visible = 1` → `Sheet1` səhifəsini göstərir (`xlSheetVisible`)\n",
    "    * `Sheets(\"Sheet1\").Select` → `Sheet1` səhifəsini aktiv edir\n",
    "    * `Sheets(\"Cedvel3\").Visible = 2` → `Cedvel3` səhifəsini yalnız VBA üzərindən görünən edir (`xlSheetVeryHidden`)\n",
    "* `End Sub` → Sub prosedurun sonunu göstərir\n"
   ]
  },
  {
   "cell_type": "code",
   "execution_count": null,
   "id": "739bcd6e",
   "metadata": {},
   "outputs": [],
   "source": []
  },
  {
   "cell_type": "markdown",
   "id": "49929c69",
   "metadata": {},
   "source": [
    "### VBA - Protect, Unprotect əmrləri - Qısa izahlar\n",
    "* `Sheets(\"Sheet1\").Protect` → `Sheet1` səhifəsini qoruyur → İstifadəçi hüceyrələrdə dəyişiklik edə bilmir (yalnız qorunmamış sahələrdə işləmək mümkündür)\n",
    "* `Sheets(\"Sheet1\").Unprotect` → `Sheet1` səhifəsinin qorunmasını ləğv edir → İstifadəçi yenidən bütün hüceyrələrdə dəyişiklik edə bilir\n",
    "* `Sheets(\"Sheet1\").Protect Password:=123` → `Sheet1` səhifəsini parol ilə qoruyur → Dəyişiklik etmək üçün parol `123` daxil edilməlidir\n",
    "* `Sheets(\"Sheet1\").Unprotect Password:=123` → `Sheet1` səhifəsinin qorunmasını parol `123` ilə ləğv edir → İstifadəçi səhifədə sərbəst dəyişiklik edə bilir\n",
    "\n",
    "---\n",
    "### Bir Sheet-dəki dəyəri digər Sheet-ə Unprotect edib yazmaq\n",
    "* `Sub Protect_task_1()` → Yeni sub prosedur yaradılır\n",
    "    * `Sheets(\"Sheet2\").Unprotect Password:=123` → `Sheet2` səhifəsinin qorunmasını parol `123` ilə ləğv edir\n",
    "    * `Sheets(\"Sheet2\").Range(\"A1\").Value = Sheets(\"Sheet1\").Range(\"A2\").Value` → `Sheet1`-dəki `A2` hüceyrəsinin dəyərini `Sheet2`-dəki `A1` hüceyrəsinə köçürür\n",
    "    * `Sheets(\"Sheet2\").Protect Password:=123` → `Sheet2` səhifəsini yenidən parol `123` ilə qoruyur\n",
    "* `End Sub` → Sub prosedurun sonunu göstərir\n",
    "\n",
    "---\n",
    "### Bir Sheet-dəki dəyəri  digər Sheet-ə bir hücrədə yazılmış Parol ilə Unprotect edib ora yazmaq\n",
    "* `Sub Protect_task_2()` → Yeni sub prosedur yaradılır \n",
    "    * `Sheets(\"Sheet2\").Unprotect Password:=Sheets(\"Sheet1\").Range(\"C2\")` → `Sheet1`-dəki `C2` hüceyrəsində yazılmış parol ilə `Sheet2`-nin qorunmasını açır\n",
    "    * `Sheets(\"Sheet2\").Range(\"A1\").Value = Sheets(\"Sheet1\").Range(\"A2\").Value` → `Sheet1`-dəki `A2` hüceyrəsinin dəyərini `Sheet2`-dəki `A1` hüceyrəsinə köçürür\n",
    "    * `Sheets(\"Sheet2\").Protect Password:=Sheets(\"Sheet1\").Range(\"C2\")` → `Sheet2`-ni yenidən `Sheet1`-dəki `C2` hüceyrəsində olan parol ilə qoruyur\n",
    "    * `Sheets(\"Sheet1\").Range(\"A2\").ClearContents` → `Sheet1`-dəki `A2` hüceyrəsinin məzmununu silir\n",
    "    * `Sheets(\"Sheet1\").Range(\"C2\").ClearContents` → `Sheet1`-dəki `C2` hüceyrəsinin məzmununu silir\n",
    "* `End Sub` → Sub prosedurun sonunu göstərir\n"
   ]
  },
  {
   "cell_type": "code",
   "execution_count": null,
   "id": "840e83b1",
   "metadata": {},
   "outputs": [],
   "source": []
  },
  {
   "cell_type": "markdown",
   "id": "56abe244",
   "metadata": {},
   "source": [
    "### VBA - Workbook-lar üzərində ilkin əməliyyatlar - Qısa izahlar\n",
    "* `Workbooks.Add` → Yeni iş kitabı (workbook) yaradır → `Workbooks.Add` → Boş Excel faylı açılır\n",
    "<br>\n",
    "\n",
    "* `Workbooks.Add.SaveAs Filename:=\"C:\\Users\\dell\\Desktop\\Excel\\Cube Academy\\Test1.xlsx\"` → Yeni iş kitabı yaradır və onu `C:\\Users\\dell\\Desktop\\Excel\\Cube Academy\\Test1.xlsx` ünvanında `Test1.xlsx` adı ilə yadda saxlayır\n",
    "<br>\n",
    "\n",
    "* `Workbooks(\"Test1.xlsx\").Activate` → `Test1.xlsx` adlı iş kitabını aktiv edir → Həmin fayl önə gətirilir və üzərində işləmək mümkün olur\n",
    "<br>\n",
    "\n",
    "* `Workbooks(\"Test1.xlsx\").Save` → `Test1.xlsx` iş kitabında edilən dəyişiklikləri yadda saxlayır → Fayl üzərində dəyişikliklər saxlanılır\n",
    "<br>\n",
    "\n",
    "* `Workbooks(\"Test1.xlsx\").Close` → `Test1.xlsx` iş kitabını bağlayır → Fayl bağlanır (əgər dəyişikliklər saxlanmayıbsa, Excel saxlayıb-saxlamamaq barədə soruşacaq)\n",
    "<br>\n",
    "\n",
    "* `Workbooks(\"Book1\").Activate` → `Book1` adlı açıq iş kitabını aktiv edir → Həmin fayl önə gətirilir və üzərində işləmək mümkün olur\n",
    "<br>\n",
    "\n",
    "* `Workbooks(\"Book1\").SaveAs \"C:\\Users\\dell\\Desktop\\Excel\\Cube Academy\\Ders_8_1_Workbook-lar üzerinde ilkin emeliyyatlar.xlsm\", FileFormat:=xlOpenXMLWorkbookMacroEnabled` → `Book1` adlı iş kitabını göstərilən ünvanda `Ders_8_1_Workbook-lar üzerinde ilkin emeliyyatlar.xlsm` adı ilə makro dəstəkləyən formatda (**.xlsm**) yadda saxlayır\n",
    "<br>\n",
    "\n",
    "* `Workbooks.Open Filename:=\"C:\\Users\\dell\\Desktop\\Excel\\Cube Academy\\Test1.xlsx\"` → Göstərilən ünvandakı `Test1.xlsx` faylını açır → İş kitabı Excel-də istifadəyə hazır olur\n",
    "<br>\n",
    "\n",
    "* `Workbooks.Open Filename:=Environ(\"userprofile\") & \"\\Desktop\\Excel\\Cube Academy\\Test1.xlsx\"` → Cari istifadəçinin masaüstündəki `Excel\\Cube Academy` qovluğunda `Test1.xlsx` faylını açır → Fayl Excel-də istifadəyə hazır olur. Bu üsul `Environ(\"userprofile\")` ilə istifadəçinin profil yolunu avtomatik alır, beləliklə hər istifadəçi üçün yol fərqli olsa da düzgün işləyir.\n",
    "\n",
    "\n",
    "---\n",
    "### Bir Workbook-dan digər Workbook-u açıb ora dəyər yazıb bağlamaq \n",
    "\n",
    "* `Sub Workbook_Task()` → Yeni sub prosedur yaradılır <br><br>\n",
    "    * `Workbooks.Open Filename:=Environ(\"userprofile\") & \"\\Desktop\\Excel\\Cube Academy\\\" & Sheets(\"Sheet1\").Range(\"B1\") & \".xlsx\"` → `Sheet1`-dəki `B1` hüceyrəsində yazılmış adı götürərək masaüstündəki `Cube Academy` qovluğundan həmin `.xlsx` faylını açır\n",
    "    <br>\n",
    "\n",
    "    * `With ActiveWorkbook` → Aktiv iş kitabı üzərində əməliyyatlar başlayır\n",
    "        * `.Sheets(\"Sheet1\").Range(\"C2\").Value = Workbooks(\"Ders_8_2_Workbook-lar üzerinde ilkin emeliyyatlar.xlsm\").Sheets(\"Sheet1\").Range(\"B2\").Value` → `Ders_8_2_Workbook-lar üzerinde ilkin emeliyyatlar.xlsm` faylındakı `Sheet1`-in `B2` hüceyrəsinin dəyərini açılmış fayldakı `Sheet1`-in `C2` hüceyrəsinə köçürür\n",
    "        * `.Save` → Açılmış iş kitabında edilən dəyişiklikləri saxlayır\n",
    "        * `.Close` → Açılmış iş kitabını bağlayır\n",
    "    * `End With` → `With ActiveWorkbook` blokunun sonu <br><br>\n",
    "* `End Sub` → Sub prosedurun sonunu göstərir\n"
   ]
  },
  {
   "cell_type": "code",
   "execution_count": null,
   "id": "10bcc400",
   "metadata": {},
   "outputs": [],
   "source": []
  },
  {
   "cell_type": "markdown",
   "id": "bd3ff2f1",
   "metadata": {},
   "source": [
    "### VBA - Immediate panelinin Əmrləri- Qısa izahlar\n",
    "* `?Environ(\"userprofile\")` → Cari istifadəçinin profil qovluğunun tam yolunu göstərir → Məsələn, `C:\\Users\\dell`\n",
    "* `?Environ(\"username\")` → Cari istifadəçinin adını göstərir → Məsələn, `dell`"
   ]
  },
  {
   "cell_type": "code",
   "execution_count": null,
   "id": "6b51ba1e",
   "metadata": {},
   "outputs": [],
   "source": []
  },
  {
   "cell_type": "markdown",
   "id": "08fc8305",
   "metadata": {},
   "source": [
    "### VBA -If, ElseIf, Else şərt funksiyaları - Qısa izahlar\n",
    "* `Sub IF_Test()` → Yeni sub prosedur yaradılır <br><br>\n",
    "    * `If Range(\"A1\").Value = \"Topla\" Then` → Əgər `A1` hüceyrəsinin dəyəri `\"Topla\"`dırsa: <div style=\"margin-top:5px;\"></div> \n",
    "        * `Range(\"D1\").Value = Range(\"B1\").Value + Range(\"C1\").Value` → `B1` və `C1` hüceyrələrinin cəmini `D1` hüceyrəsinə yazır <div style=\"margin-top:5px;\"></div> \n",
    "    * `ElseIf Range(\"A1\").Value = \"Vur\" Then` → Əgər `A1` hüceyrəsinin dəyəri `\"Vur\"`dur isə: <div style=\"margin-top:5px;\"></div> \n",
    "        * `Range(\"D1\").Value = Range(\"B1\").Value * Range(\"C1\").Value` → `B1` və `C1` hüceyrələrinin hasilini `D1` hüceyrəsinə yazır <div style=\"margin-top:5px;\"></div> \n",
    "    * `Else` → Heç biri uyğun deyilsə: <div style=\"margin-top:5px;\"></div> \n",
    "        * `Range(\"D1\").Value = 0` → `D1` hüceyrəsinə `0` yazır <div style=\"margin-top:5px;\"></div> \n",
    "    * `End If` → Şərt blokunun sonu <br><br>\n",
    "* `End Sub` → Sub prosedurun sonunu göstərir\n"
   ]
  },
  {
   "cell_type": "code",
   "execution_count": null,
   "id": "d3080661",
   "metadata": {},
   "outputs": [],
   "source": []
  }
 ],
 "metadata": {
  "kernelspec": {
   "display_name": "Python 3 (ipykernel)",
   "language": "python",
   "name": "python3"
  },
  "language_info": {
   "codemirror_mode": {
    "name": "ipython",
    "version": 3
   },
   "file_extension": ".py",
   "mimetype": "text/x-python",
   "name": "python",
   "nbconvert_exporter": "python",
   "pygments_lexer": "ipython3",
   "version": "3.11.5"
  }
 },
 "nbformat": 4,
 "nbformat_minor": 5
}
